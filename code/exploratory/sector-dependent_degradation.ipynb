{
 "cells": [
  {
   "cell_type": "markdown",
   "metadata": {},
   "source": [
    "# Exploring nutrient-dependent degradation."
   ]
  },
  {
   "cell_type": "code",
   "execution_count": 1,
   "metadata": {},
   "outputs": [],
   "source": [
    "using DifferentialEquations\n",
    "using CairoMakie"
   ]
  },
  {
   "cell_type": "code",
   "execution_count": 3,
   "metadata": {},
   "outputs": [
    {
     "data": {
      "text/plain": [
       "selfreplicator! (generic function with 1 method)"
      ]
     },
     "metadata": {},
     "output_type": "display_data"
    }
   ],
   "source": [
    "function degradation(δ⁺, c, Kₘ)\n",
    "    return @. δ⁺ * (c ./ (c + Kₘ)) \n",
    "end\n",
    "\n",
    "Kₘ⁺ = 3E-5\n",
    "Kₘ⁻ = 3E-5\n",
    "τ = 1.0\n",
    "κ⁺ = (64 * 5 * 3600) / 1E9\n",
    "γ⁺ = 9.65 \n",
    "ϕₒ = 0.55\n",
    "Kₘ = 5E-4\n",
    "function selfreplicator!(du, u, p, t)\n",
    "    ν⁺, I, Kₘ, δ⁺ = p\n",
    "    M, Mᵣ, Mₘ, tRNA⁺, tRNA⁻ = u\n",
    "    ratio = tRNA⁺ / tRNA⁻\n",
    "    γ = γ⁺ * tRNA⁺ / (tRNA⁺ + Kₘ⁺)\n",
    "    ν = ν⁺ * tRNA⁻ / (tRNA⁻ + Kₘ⁻)\n",
    "    κ = κ⁺ * ratio / (ratio + tau)\n",
    "    ϕᵣ = (1 - ϕₒ) * ratio / (ratio + tau)\n",
    "    ϕₘ = 1 - ϕₒ - ϕᵣ\n",
    "    δ = degradation(δ⁺, I, Kₘ)\n",
    "\n",
    "    du[1] = ∂ₜM = gamma .* Mᵣ \n",
    "    du[2] = ∂ₜMᵣ = ϕᵣ * ∂ₜM\n",
    "    du[3] = ∂ₜMₘ = ϕₘ * ∂ₜM - δ * Mₘ\n",
    "    du[4] = ∂ₜtRNA⁺ = ν * Mₘ - ∂ₜM * (1 + tRNA⁺)\n",
    "    du[5] = ∂ₜtRNA⁻ = ∂ₜM * (1 - tRNA⁻) - ν * Mₘ + κ\n",
    "    nothing\n",
    "end"
   ]
  },
  {
   "cell_type": "code",
   "execution_count": null,
   "metadata": {},
   "outputs": [],
   "source": []
  }
 ],
 "metadata": {
  "kernelspec": {
   "display_name": "Julia 1.9.2",
   "language": "julia",
   "name": "julia-1.9"
  },
  "language_info": {
   "file_extension": ".jl",
   "mimetype": "application/julia",
   "name": "julia",
   "version": "1.9.2"
  },
  "orig_nbformat": 4
 },
 "nbformat": 4,
 "nbformat_minor": 2
}
